{
 "cells": [
  {
   "cell_type": "code",
   "execution_count": 1,
   "id": "91f3e9a0-7001-4a0d-8d31-30c5fdce7869",
   "metadata": {
    "tags": []
   },
   "outputs": [],
   "source": [
    "%matplotlib inline\n",
    "\n",
    "import warnings\n",
    "warnings.filterwarnings('ignore')\n",
    "\n",
    "import numpy as np\n",
    "import pandas as pd\n",
    "import matplotlib.pyplot as plt\n",
    "import seaborn as sns\n",
    "from scipy.stats import pearsonr, spearmanr\n",
    "from talib import RSI, BBANDS, MACD, ATR\n",
    "# ATR指标：https://zhuanlan.zhihu.com/p/369351721\n",
    "# TR=max(|最高价-最低价|, |最高价-昨收|, |昨收-最低价|); 真实波幅ATR=TR的N(14)日简单移动平均\n",
    "# 使用示例：当前价格比之前的价格高N个ATR的涨幅则买入；低N个ATR的涨幅则卖出\n",
    "\n",
    "MONTH = 21\n",
    "YEAR = 12 * MONTH\n",
    "min_obs = 2 * YEAR\n",
    "\n",
    "START = '2013-01-01'\n",
    "END = '2017-12-31'\n",
    "\n",
    "sns.set_style('whitegrid')\n",
    "idx = pd.IndexSlice"
   ]
  },
  {
   "cell_type": "code",
   "execution_count": 2,
   "id": "0e0859be-6b3f-4b7d-9241-a9bb23b22f8f",
   "metadata": {
    "tags": []
   },
   "outputs": [],
   "source": [
    "ohlcv = ['adj_open', 'adj_close', 'adj_low', 'adj_high', 'adj_volume']\n",
    "DATA_STORE = '../data/assets.h5'\n",
    "with pd.HDFStore(DATA_STORE) as store:\n",
    "    prices = (store['quandl/wiki/prices']\n",
    "              .loc[idx[START:END, :], ohlcv]\n",
    "              .rename(columns=lambda x: x.replace('adj_', ''))\n",
    "              .assign(volume=lambda x: x.volume.div(1000))\n",
    "              .swaplevel()\n",
    "              .sort_index())\n",
    "    stocks = (store['us_equities/stocks'].loc[:, ['marketcap', 'ipoyear', 'sector']])\n",
    "\n",
    "nobs = prices.groupby(level='ticker').size()\n",
    "keep = nobs[nobs > min_obs].index\n",
    "prices = prices.loc[idx[keep, :], :]"
   ]
  },
  {
   "cell_type": "code",
   "execution_count": 3,
   "id": "a879219a-e217-4580-9797-bfd04992bdb6",
   "metadata": {
    "tags": []
   },
   "outputs": [],
   "source": [
    "stocks = stocks[~stocks.index.duplicated() & stocks.sector.notnull()]\n",
    "stocks.sector = stocks.sector.str.lower().str.replace(' ', '_')\n",
    "stocks.index.name = 'ticker'\n",
    "\n",
    "shared = (prices.index.get_level_values('ticker').unique().intersection(stocks.index))\n",
    "stocks = stocks.loc[shared, :]\n",
    "prices = prices.loc[idx[shared, :], :]\n",
    "#prices.info(show_counts=True)\n",
    "#stocks.info(show_counts=True)\n",
    "#stocks.sector.value_counts()"
   ]
  },
  {
   "cell_type": "code",
   "execution_count": 4,
   "id": "0ad6ed28-9eab-467f-8a33-3d6b5a288d57",
   "metadata": {
    "tags": []
   },
   "outputs": [],
   "source": [
    "# compute dollar volume to determine universe\n",
    "prices['dollar_vol'] = prices[['close', 'volume']].prod(axis=1)\n",
    "prices['dollar_vol_1m'] = (prices.dollar_vol.groupby('ticker').rolling(window=21).mean()).values\n",
    "#prices.info(show_counts=True)"
   ]
  },
  {
   "cell_type": "code",
   "execution_count": 5,
   "id": "46605d84-5ff0-4281-9638-4e1db8a6337d",
   "metadata": {
    "tags": []
   },
   "outputs": [],
   "source": [
    "prices['dollar_vol_rank'] = (prices.groupby('date').dollar_vol_1m.rank(ascending=False))\n",
    "#prices.info(show_counts=True)"
   ]
  },
  {
   "cell_type": "code",
   "execution_count": 6,
   "id": "adfe2271-a1ca-4cff-ad0c-df3e62831b86",
   "metadata": {
    "tags": []
   },
   "outputs": [],
   "source": [
    "#prices['rsi'] = prices.groupby(level='ticker').close.apply(RSI)\n",
    "#prices['rsi'] = prices.close.groupby(level='ticker').apply(lambda x: RSI(x.swaplevel().unstack().iloc[:,0]))\n",
    "prices['rsi'] = prices.close.groupby('ticker', group_keys=False).apply(RSI)\n",
    "\n",
    "#ax = sns.distplot(prices.rsi.dropna())\n",
    "#ax.axvline(30, ls='--', lw=1, c='k')\n",
    "#ax.axvline(70, ls='--', lw=1, c='k')\n",
    "#ax.set_title('RSI Distribution with Signal Threshold')\n",
    "#plt.tight_layout();"
   ]
  },
  {
   "cell_type": "code",
   "execution_count": 7,
   "id": "1880f92a-3a7a-4f92-ae37-76ab7c3c1f28",
   "metadata": {},
   "outputs": [],
   "source": [
    "def compute_bb(close):\n",
    "    high, mid, low = BBANDS(close, timeperiod=20)\n",
    "    return pd.DataFrame({'bb_high': high, 'bb_low': low}, index=close.index)\n",
    "prices = (prices.join(prices.groupby(level='ticker', group_keys=False).close.apply(compute_bb)))\n",
    "prices['bb_high'] = prices.bb_high.sub(prices.close).div(prices.bb_high).apply(np.log1p)\n",
    "prices['bb_low'] = prices.close.sub(prices.bb_low).div(prices.close).apply(np.log1p)\n",
    "\n",
    "#fig, axes = plt.subplots(ncols=2, figsize=(15, 5))\n",
    "#sns.distplot(prices.loc[prices.dollar_vol_rank<100, 'bb_low'].dropna(), ax=axes[0])\n",
    "#sns.distplot(prices.loc[prices.dollar_vol_rank<100, 'bb_high'].dropna(), ax=axes[1])\n",
    "#plt.tight_layout();"
   ]
  },
  {
   "cell_type": "code",
   "execution_count": 8,
   "id": "b110a984-0e2a-43ac-83df-587aa5ada76b",
   "metadata": {},
   "outputs": [],
   "source": [
    "def compute_atr(stock_data):\n",
    "    df = ATR(stock_data.high, stock_data.low, stock_data.close, timeperiod=14)\n",
    "    return df.sub(df.mean()).div(df.std())\n",
    "prices['atr'] = (prices.groupby('ticker', group_keys=False).apply(compute_atr))\n",
    "#sns.distplot(prices[prices.dollar_vol_rank<50].atr.dropna());"
   ]
  },
  {
   "cell_type": "code",
   "execution_count": 9,
   "id": "eed6df5d-1f65-4db9-93f4-f6ddd67e9ee1",
   "metadata": {},
   "outputs": [],
   "source": [
    "def compute_macd(close):\n",
    "    macd = MACD(close)[0]\n",
    "    return (macd - np.mean(macd))/np.std(macd)\n",
    "prices['macd'] = (prices.groupby('ticker', group_keys=False).close.apply(compute_macd))\n",
    "#prices.macd.describe(percentiles=[.001, .01, .02, .03, .04, .05, .95, .96, .97, .98, .99, .999]).apply(lambda x: f'{x:,.1f}')\n",
    "#sns.distplot(prices[prices.dollar_vol_rank<100].macd.dropna());"
   ]
  },
  {
   "cell_type": "code",
   "execution_count": 10,
   "id": "fc8b9919-3a04-400f-9a40-0dbe134e105b",
   "metadata": {},
   "outputs": [],
   "source": [
    "lags = [1, 5, 10, 21, 42, 63]\n",
    "returns = prices.groupby(level='ticker').close.pct_change()\n",
    "percentiles=[.0001, .001, .01]\n",
    "percentiles+= [1-p for p in percentiles]\n",
    "#returns.describe(percentiles=percentiles).iloc[2:].to_frame('percentiles').style.format(lambda x: f'{x:,.2%}')\n",
    "q = 0.0001\n",
    "for lag in lags:\n",
    "    prices[f'return_{lag}d'] = (prices.groupby(level='ticker').close\n",
    "                                .pct_change(lag)\n",
    "                                .pipe(lambda x: x.clip(lower=x.quantile(q), upper=x.quantile(1 - q)))\n",
    "                                .add(1).pow(1 / lag).sub(1))\n",
    "for t in [1, 2, 3, 4, 5]:\n",
    "    for lag in [1, 5, 10, 21]:\n",
    "        prices[f'return_{lag}d_lag{t}'] = (prices.groupby(level='ticker')[f'return_{lag}d'].shift(t * lag))\n",
    "        \n",
    "for t in [1, 5, 10, 21]:\n",
    "    prices[f'target_{t}d'] = prices.groupby(level='ticker')[f'return_{t}d'].shift(-t) #当做label"
   ]
  },
  {
   "cell_type": "code",
   "execution_count": null,
   "id": "5cae3368-409f-4f35-a331-8fd396260d01",
   "metadata": {},
   "outputs": [],
   "source": []
  },
  {
   "cell_type": "code",
   "execution_count": 11,
   "id": "bbe86410-1606-4985-993f-bc9af076a1e7",
   "metadata": {
    "tags": []
   },
   "outputs": [],
   "source": [
    "prices = prices.join(stocks[['sector']])\n",
    "prices['year'] = prices.index.get_level_values('date').year\n",
    "prices['month'] = prices.index.get_level_values('date').month\n",
    "#prices.info(show_counts=True)\n",
    "prices.assign(sector=pd.factorize(prices.sector, sort=True)[0]).to_hdf('data.h5', 'model_data/no_dummies')\n",
    "prices = pd.get_dummies(prices,\n",
    "                        columns=['year', 'month', 'sector'],\n",
    "                        prefix=['year', 'month', ''],\n",
    "                        prefix_sep=['_', '_', ''],\n",
    "                        drop_first=True)\n",
    "#prices.info(show_counts=True)\n",
    "prices.to_hdf('data.h5', 'model_data')"
   ]
  },
  {
   "cell_type": "code",
   "execution_count": 33,
   "id": "b0c4cd63-0908-43c7-a419-3db01fdfe693",
   "metadata": {},
   "outputs": [
    {
     "data": {
      "text/html": [
       "<div>\n",
       "<style scoped>\n",
       "    .dataframe tbody tr th:only-of-type {\n",
       "        vertical-align: middle;\n",
       "    }\n",
       "\n",
       "    .dataframe tbody tr th {\n",
       "        vertical-align: top;\n",
       "    }\n",
       "\n",
       "    .dataframe thead th {\n",
       "        text-align: right;\n",
       "    }\n",
       "</style>\n",
       "<table border=\"1\" class=\"dataframe\">\n",
       "  <thead>\n",
       "    <tr style=\"text-align: right;\">\n",
       "      <th></th>\n",
       "      <th>count</th>\n",
       "      <th>mean</th>\n",
       "      <th>std</th>\n",
       "      <th>min</th>\n",
       "      <th>25%</th>\n",
       "      <th>50%</th>\n",
       "      <th>75%</th>\n",
       "      <th>max</th>\n",
       "    </tr>\n",
       "    <tr>\n",
       "      <th>rsi_signal</th>\n",
       "      <th></th>\n",
       "      <th></th>\n",
       "      <th></th>\n",
       "      <th></th>\n",
       "      <th></th>\n",
       "      <th></th>\n",
       "      <th></th>\n",
       "      <th></th>\n",
       "    </tr>\n",
       "  </thead>\n",
       "  <tbody>\n",
       "    <tr>\n",
       "      <th>(0, 30]</th>\n",
       "      <td>4209.0</td>\n",
       "      <td>0.001126</td>\n",
       "      <td>0.010457</td>\n",
       "      <td>-0.067138</td>\n",
       "      <td>-0.003606</td>\n",
       "      <td>0.001051</td>\n",
       "      <td>0.006156</td>\n",
       "      <td>0.061889</td>\n",
       "    </tr>\n",
       "    <tr>\n",
       "      <th>(30, 70]</th>\n",
       "      <td>107244.0</td>\n",
       "      <td>0.000446</td>\n",
       "      <td>0.007711</td>\n",
       "      <td>-0.170571</td>\n",
       "      <td>-0.003054</td>\n",
       "      <td>0.000650</td>\n",
       "      <td>0.004246</td>\n",
       "      <td>0.075653</td>\n",
       "    </tr>\n",
       "    <tr>\n",
       "      <th>(70, 100]</th>\n",
       "      <td>10634.0</td>\n",
       "      <td>0.000018</td>\n",
       "      <td>0.006354</td>\n",
       "      <td>-0.087857</td>\n",
       "      <td>-0.002818</td>\n",
       "      <td>0.000145</td>\n",
       "      <td>0.003121</td>\n",
       "      <td>0.058570</td>\n",
       "    </tr>\n",
       "  </tbody>\n",
       "</table>\n",
       "</div>"
      ],
      "text/plain": [
       "               count      mean       std       min       25%       50%  \\\n",
       "rsi_signal                                                               \n",
       "(0, 30]       4209.0  0.001126  0.010457 -0.067138 -0.003606  0.001051   \n",
       "(30, 70]    107244.0  0.000446  0.007711 -0.170571 -0.003054  0.000650   \n",
       "(70, 100]    10634.0  0.000018  0.006354 -0.087857 -0.002818  0.000145   \n",
       "\n",
       "                 75%       max  \n",
       "rsi_signal                      \n",
       "(0, 30]     0.006156  0.061889  \n",
       "(30, 70]    0.004246  0.075653  \n",
       "(70, 100]   0.003121  0.058570  "
      ]
     },
     "execution_count": 33,
     "metadata": {},
     "output_type": "execute_result"
    }
   ],
   "source": [
    "target = 'target_5d'\n",
    "top100 = prices[prices.dollar_vol_rank<100].copy()\n",
    "top100.loc[:, 'rsi_signal'] = pd.cut(top100.rsi, bins=[0, 30, 70, 100])\n",
    "#top100.groupby('rsi_signal')['target_5d'].describe()"
   ]
  },
  {
   "cell_type": "code",
   "execution_count": 35,
   "id": "e221760f-0272-43c4-9deb-ed2d0bc49d2a",
   "metadata": {},
   "outputs": [
    {
     "name": "stdout",
     "output_type": "stream",
     "text": [
      "-2.68% (0.00%)\n"
     ]
    }
   ],
   "source": [
    "metric = 'bb_low'\n",
    "#j=sns.jointplot(x=metric, y=target, data=top100)\n",
    "\n",
    "df = top100[[metric, target]].dropna()\n",
    "r, p = spearmanr(df[metric], df[target])\n",
    "print(f'{r:,.2%} ({p:.2%})')"
   ]
  },
  {
   "cell_type": "code",
   "execution_count": null,
   "id": "cbd9c66c-3e53-49b2-84c7-7a8a3fca2304",
   "metadata": {},
   "outputs": [],
   "source": [
    "metric = 'bb_high'\n",
    "j=sns.jointplot(x=metric, y=target, data=top100)\n",
    "\n",
    "df = top100[[metric, target]].dropna()\n",
    "r, p = spearmanr(df[metric], df[target])\n",
    "print(f'{r:,.2%} ({p:.2%})')"
   ]
  },
  {
   "cell_type": "code",
   "execution_count": null,
   "id": "0d138d69-839a-4c64-affb-9f68712a677c",
   "metadata": {},
   "outputs": [],
   "source": [
    "metric = 'atr'\n",
    "j=sns.jointplot(x=metric, y=target, data=top100)\n",
    "\n",
    "df = top100[[metric, target]].dropna()\n",
    "r, p = spearmanr(df[metric], df[target])\n",
    "print(f'{r:,.2%} ({p:.2%})')"
   ]
  },
  {
   "cell_type": "code",
   "execution_count": null,
   "id": "3340516b-667e-425d-a2d2-ba326c939a4a",
   "metadata": {},
   "outputs": [],
   "source": [
    "metric = 'macd'\n",
    "j=sns.jointplot(x=metric, y=target, data=top100)\n",
    "\n",
    "df = top100[[metric, target]].dropna()\n",
    "r, p = spearmanr(df[metric], df[target])\n",
    "print(f'{r:,.2%} ({p:.2%})')"
   ]
  }
 ],
 "metadata": {
  "kernelspec": {
   "display_name": "Python 3 (ipykernel)",
   "language": "python",
   "name": "python3"
  },
  "language_info": {
   "codemirror_mode": {
    "name": "ipython",
    "version": 3
   },
   "file_extension": ".py",
   "mimetype": "text/x-python",
   "name": "python",
   "nbconvert_exporter": "python",
   "pygments_lexer": "ipython3",
   "version": "3.8.18"
  }
 },
 "nbformat": 4,
 "nbformat_minor": 5
}
